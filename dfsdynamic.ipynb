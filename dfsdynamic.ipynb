{
  "nbformat": 4,
  "nbformat_minor": 0,
  "metadata": {
    "colab": {
      "name": "dfsdynamic.ipynb",
      "provenance": [],
      "collapsed_sections": [],
      "authorship_tag": "ABX9TyO8j7rflcBpctdWWEmU6gaS",
      "include_colab_link": true
    },
    "kernelspec": {
      "name": "python3",
      "display_name": "Python 3"
    }
  },
  "cells": [
    {
      "cell_type": "markdown",
      "metadata": {
        "id": "view-in-github",
        "colab_type": "text"
      },
      "source": [
        "<a href=\"https://colab.research.google.com/github/asramasrat/Train/blob/master/dfsdynamic.ipynb\" target=\"_parent\"><img src=\"https://colab.research.google.com/assets/colab-badge.svg\" alt=\"Open In Colab\"/></a>"
      ]
    },
    {
      "cell_type": "code",
      "metadata": {
        "id": "H1XvUVJM7gUr",
        "colab_type": "code",
        "colab": {
          "base_uri": "https://localhost:8080/",
          "height": 598
        },
        "outputId": "19d03650-8b97-4d63-d867-8d64b3115582"
      },
      "source": [
        "n= int(input(\"enter the number of vertices\"))\n",
        "adj_list={}\n",
        "for i in range(n):\n",
        "    keys=input(\"enter a vertex\")\n",
        "    x=int(input(\"enter the number of adjacent nodes the above vertex has\"))\n",
        "    values=[]\n",
        "    print(\"enter the adjacent nodes one by one\")\n",
        "    for n in range(x):\n",
        "        t= input()\n",
        "        values.append(t)\n",
        "    adj_list[keys]=values\n",
        "print(adj_list)\n",
        " \n",
        "r=input(\"enter the root node\")\n",
        "visited = set()\n",
        "\n",
        "def dfs(visited, adj_list, node):\n",
        "    if node not in visited:\n",
        "        print (node)\n",
        "        visited.add(node)\n",
        "        for neighbour in adj_list[node]:\n",
        "            dfs(visited, adj_list, neighbour)\n",
        "\n",
        "dfs(visited, adj_list, r)"
      ],
      "execution_count": null,
      "outputs": [
        {
          "output_type": "stream",
          "text": [
            "enter the number of vertices5\n",
            "enter a vertexA\n",
            "enter the number of adjacent nodes the above vertex has3\n",
            "enter the adjacent nodes one by one\n",
            "B\n",
            "C\n",
            "D\n",
            "enter a vertexB\n",
            "enter the number of adjacent nodes the above vertex has2\n",
            "enter the adjacent nodes one by one\n",
            "A\n",
            "C\n",
            "enter a vertexC\n",
            "enter the number of adjacent nodes the above vertex has3\n",
            "enter the adjacent nodes one by one\n",
            "A\n",
            "B\n",
            "E\n",
            "enter a vertexE\n",
            "enter the number of adjacent nodes the above vertex has1\n",
            "enter the adjacent nodes one by one\n",
            "C\n",
            "enter a vertexD\n",
            "enter the number of adjacent nodes the above vertex has1\n",
            "enter the adjacent nodes one by one\n",
            "A\n",
            "{'A': ['B', 'C', 'D'], 'B': ['A', 'C'], 'C': ['A', 'B', 'E'], 'E': ['C'], 'D': ['A']}\n",
            "enter the root nodeA\n",
            "A\n",
            "B\n",
            "C\n",
            "E\n",
            "D\n"
          ],
          "name": "stdout"
        }
      ]
    }
  ]
}